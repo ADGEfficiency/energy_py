{
 "cells": [
  {
   "cell_type": "code",
   "execution_count": 1,
   "metadata": {},
   "outputs": [],
   "source": [
    "%load_ext autoreload\n",
    "%autoreload 2"
   ]
  },
  {
   "cell_type": "code",
   "execution_count": 2,
   "metadata": {},
   "outputs": [],
   "source": [
    "import numpy as np\n",
    "\n",
    "import energypy as ep\n",
    "import energypylinear as epl"
   ]
  },
  {
   "cell_type": "code",
   "execution_count": 3,
   "metadata": {},
   "outputs": [
    {
     "data": {
      "text/plain": [
       "array([82.69600039, 48.67878125, 11.16553713, 41.04675411, 36.83326004])"
      ]
     },
     "execution_count": 3,
     "metadata": {},
     "output_type": "execute_result"
    }
   ],
   "source": [
    "prices = np.random.rand(5) * 100\n",
    "prices"
   ]
  },
  {
   "cell_type": "code",
   "execution_count": 4,
   "metadata": {},
   "outputs": [
    {
     "name": "stdout",
     "output_type": "stream",
     "text": [
      "Optimal\n"
     ]
    }
   ],
   "source": [
    "linear = epl.Battery(power=2, capacity=4)\n",
    "opt = linear.optimize(prices)"
   ]
  },
  {
   "cell_type": "code",
   "execution_count": 5,
   "metadata": {},
   "outputs": [
    {
     "data": {
      "text/plain": [
       "[OrderedDict([('Import [MW]', 0.0),\n",
       "              ('Export [MW]', 2.2e-11),\n",
       "              ('Gross [MW]', -2.2e-11),\n",
       "              ('Net [MW]', -1.9800000000000002e-11),\n",
       "              ('Losses [MW]', 2.2e-12),\n",
       "              ('Initial charge [MWh]', 0.0),\n",
       "              ('Final charge [MWh]', -1.8333333e-12),\n",
       "              ('Prices [$/MWh]', 82.69600039152019),\n",
       "              ('Forecast [$/MWh]', 82.69600039152019),\n",
       "              ('Actual [$/5min]', -1.3644840064600832e-10),\n",
       "              ('Forecast [$/5min]', -1.3644840064600832e-10)]),\n",
       " OrderedDict([('Import [MW]', 1.2e-11),\n",
       "              ('Export [MW]', -1e-11),\n",
       "              ('Gross [MW]', 2.2e-11),\n",
       "              ('Net [MW]', 2.1000000000000002e-11),\n",
       "              ('Losses [MW]', -1e-12),\n",
       "              ('Initial charge [MWh]', -1.8333333e-12),\n",
       "              ('Final charge [MWh]', 0.0),\n",
       "              ('Prices [$/MWh]', 48.67878125026072),\n",
       "              ('Forecast [$/MWh]', 48.67878125026072),\n",
       "              ('Actual [$/5min]', 8.518786718795627e-11),\n",
       "              ('Forecast [$/5min]', 8.518786718795627e-11)]),\n",
       " OrderedDict([('Import [MW]', 2.0),\n",
       "              ('Export [MW]', 0.0),\n",
       "              ('Gross [MW]', 2.0),\n",
       "              ('Net [MW]', 2.0),\n",
       "              ('Losses [MW]', 0.0),\n",
       "              ('Initial charge [MWh]', 0.0),\n",
       "              ('Final charge [MWh]', 0.16666667),\n",
       "              ('Prices [$/MWh]', 11.165537127606273),\n",
       "              ('Forecast [$/MWh]', 11.165537127606273),\n",
       "              ('Actual [$/5min]', 1.8609228546010455),\n",
       "              ('Forecast [$/5min]', 1.8609228546010455)]),\n",
       " OrderedDict([('Import [MW]', 0.0),\n",
       "              ('Export [MW]', 2.0),\n",
       "              ('Gross [MW]', -2.0),\n",
       "              ('Net [MW]', -1.8),\n",
       "              ('Losses [MW]', 0.2),\n",
       "              ('Initial charge [MWh]', 0.16666667),\n",
       "              ('Final charge [MWh]', 0.0),\n",
       "              ('Prices [$/MWh]', 41.04675411191073),\n",
       "              ('Forecast [$/MWh]', 41.04675411191073),\n",
       "              ('Actual [$/5min]', -6.157013116786609),\n",
       "              ('Forecast [$/5min]', -6.157013116786609)]),\n",
       " OrderedDict([('Import [MW]', 0.0),\n",
       "              ('Export [MW]', 0.0),\n",
       "              ('Gross [MW]', 0.0),\n",
       "              ('Net [MW]', 0.0),\n",
       "              ('Losses [MW]', 0.0),\n",
       "              ('Initial charge [MWh]', 0.0),\n",
       "              ('Final charge [MWh]', 0.0),\n",
       "              ('Prices [$/MWh]', 36.83326004059906),\n",
       "              ('Forecast [$/MWh]', 36.83326004059906),\n",
       "              ('Actual [$/5min]', 0.0),\n",
       "              ('Forecast [$/5min]', 0.0)])]"
      ]
     },
     "execution_count": 5,
     "metadata": {},
     "output_type": "execute_result"
    }
   ],
   "source": [
    "opt"
   ]
  },
  {
   "cell_type": "code",
   "execution_count": 6,
   "metadata": {},
   "outputs": [],
   "source": [
    "class FixedAgent:\n",
    "    def __init__(self, actions):\n",
    "        self.actions = actions\n",
    "        self.cursor = -1\n",
    "        self.memory = []\n",
    "        \n",
    "    def act(self, obs):\n",
    "        if self.cursor == len(self.actions) - 1:\n",
    "            self.cursor = 0\n",
    "        else:\n",
    "            self.cursor += 1\n",
    "        return self.actions[self.cursor]\n",
    "    \n",
    "    def remember(self, *args):\n",
    "        pass\n",
    "    \n",
    "    def reset(self):\n",
    "        self.cursor = 0\n",
    "\n",
    "agent = FixedAgent([d['Gross [MW]'] for d in opt])"
   ]
  },
  {
   "cell_type": "code",
   "execution_count": 7,
   "metadata": {},
   "outputs": [
    {
     "data": {
      "text/plain": [
       "<energypy BATTERY env - 2.0 MW 4.0 MWh>"
      ]
     },
     "execution_count": 7,
     "metadata": {},
     "output_type": "execute_result"
    }
   ],
   "source": [
    "batt = ep.make_env('battery', power=2, capacity=4, episode_length=len(agent.actions), prices=prices)\n",
    "batt"
   ]
  },
  {
   "cell_type": "code",
   "execution_count": 8,
   "metadata": {},
   "outputs": [],
   "source": [
    "from energypy.experiments.blocks import perform_episode"
   ]
  },
  {
   "cell_type": "code",
   "execution_count": 9,
   "metadata": {},
   "outputs": [
    {
     "name": "stderr",
     "output_type": "stream",
     "text": [
      "/Users/adam/git/energy-py/energypy/common/spaces/composite.py:110: FutureWarning: elementwise comparison failed; returning scalar instead, but in the future will perform elementwise comparison\n",
      "  if space.data == 'append':\n"
     ]
    }
   ],
   "source": [
    "agent.reset()\n",
    "step, rewards = perform_episode(agent, batt)"
   ]
  },
  {
   "cell_type": "code",
   "execution_count": 14,
   "metadata": {},
   "outputs": [
    {
     "data": {
      "text/plain": [
       "[-1.5160933405112035e-10,\n",
       " -8.113130208376786,\n",
       " 1.6748305691409409,\n",
       " -0.0,\n",
       " 6.077487906698845e-11]"
      ]
     },
     "execution_count": 14,
     "metadata": {},
     "output_type": "execute_result"
    }
   ],
   "source": [
    "rewards"
   ]
  },
  {
   "cell_type": "code",
   "execution_count": 15,
   "metadata": {},
   "outputs": [
    {
     "data": {
      "text/plain": [
       "[-1.3644840064600832e-10,\n",
       " 8.518786718795627e-11,\n",
       " 1.8609228546010455,\n",
       " -6.157013116786609,\n",
       " 0.0]"
      ]
     },
     "execution_count": 15,
     "metadata": {},
     "output_type": "execute_result"
    }
   ],
   "source": [
    "[d['Actual [$/5min]'] for d in opt]"
   ]
  },
  {
   "cell_type": "code",
   "execution_count": 16,
   "metadata": {},
   "outputs": [],
   "source": [
    "agent.reset()"
   ]
  },
  {
   "cell_type": "code",
   "execution_count": null,
   "metadata": {},
   "outputs": [],
   "source": []
  }
 ],
 "metadata": {
  "kernelspec": {
   "display_name": "Python 3",
   "language": "python",
   "name": "python3"
  },
  "language_info": {
   "codemirror_mode": {
    "name": "ipython",
    "version": 3
   },
   "file_extension": ".py",
   "mimetype": "text/x-python",
   "name": "python",
   "nbconvert_exporter": "python",
   "pygments_lexer": "ipython3",
   "version": "3.6.8"
  }
 },
 "nbformat": 4,
 "nbformat_minor": 2
}
